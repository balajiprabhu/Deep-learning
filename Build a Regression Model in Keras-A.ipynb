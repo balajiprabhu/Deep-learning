{
 "cells": [
  {
   "cell_type": "markdown",
   "metadata": {},
   "source": [
    "## Build a Regression Model in Keras"
   ]
  },
  {
   "cell_type": "code",
   "execution_count": null,
   "metadata": {},
   "outputs": [],
   "source": [
    "import pandas as pd\n",
    "import numpy as np"
   ]
  },
  {
   "cell_type": "markdown",
   "metadata": {},
   "source": [
    "### read the data"
   ]
  },
  {
   "cell_type": "code",
   "execution_count": 2,
   "metadata": {},
   "outputs": [
    {
     "data": {
      "text/html": [
       "<div>\n",
       "<style scoped>\n",
       "    .dataframe tbody tr th:only-of-type {\n",
       "        vertical-align: middle;\n",
       "    }\n",
       "\n",
       "    .dataframe tbody tr th {\n",
       "        vertical-align: top;\n",
       "    }\n",
       "\n",
       "    .dataframe thead th {\n",
       "        text-align: right;\n",
       "    }\n",
       "</style>\n",
       "<table border=\"1\" class=\"dataframe\">\n",
       "  <thead>\n",
       "    <tr style=\"text-align: right;\">\n",
       "      <th></th>\n",
       "      <th>Cement</th>\n",
       "      <th>Blast Furnace Slag</th>\n",
       "      <th>Fly Ash</th>\n",
       "      <th>Water</th>\n",
       "      <th>Superplasticizer</th>\n",
       "      <th>Coarse Aggregate</th>\n",
       "      <th>Fine Aggregate</th>\n",
       "      <th>Age</th>\n",
       "      <th>Strength</th>\n",
       "    </tr>\n",
       "  </thead>\n",
       "  <tbody>\n",
       "    <tr>\n",
       "      <th>0</th>\n",
       "      <td>540.0</td>\n",
       "      <td>0.0</td>\n",
       "      <td>0.0</td>\n",
       "      <td>162.0</td>\n",
       "      <td>2.5</td>\n",
       "      <td>1040.0</td>\n",
       "      <td>676.0</td>\n",
       "      <td>28</td>\n",
       "      <td>79.99</td>\n",
       "    </tr>\n",
       "    <tr>\n",
       "      <th>1</th>\n",
       "      <td>540.0</td>\n",
       "      <td>0.0</td>\n",
       "      <td>0.0</td>\n",
       "      <td>162.0</td>\n",
       "      <td>2.5</td>\n",
       "      <td>1055.0</td>\n",
       "      <td>676.0</td>\n",
       "      <td>28</td>\n",
       "      <td>61.89</td>\n",
       "    </tr>\n",
       "    <tr>\n",
       "      <th>2</th>\n",
       "      <td>332.5</td>\n",
       "      <td>142.5</td>\n",
       "      <td>0.0</td>\n",
       "      <td>228.0</td>\n",
       "      <td>0.0</td>\n",
       "      <td>932.0</td>\n",
       "      <td>594.0</td>\n",
       "      <td>270</td>\n",
       "      <td>40.27</td>\n",
       "    </tr>\n",
       "    <tr>\n",
       "      <th>3</th>\n",
       "      <td>332.5</td>\n",
       "      <td>142.5</td>\n",
       "      <td>0.0</td>\n",
       "      <td>228.0</td>\n",
       "      <td>0.0</td>\n",
       "      <td>932.0</td>\n",
       "      <td>594.0</td>\n",
       "      <td>365</td>\n",
       "      <td>41.05</td>\n",
       "    </tr>\n",
       "    <tr>\n",
       "      <th>4</th>\n",
       "      <td>198.6</td>\n",
       "      <td>132.4</td>\n",
       "      <td>0.0</td>\n",
       "      <td>192.0</td>\n",
       "      <td>0.0</td>\n",
       "      <td>978.4</td>\n",
       "      <td>825.5</td>\n",
       "      <td>360</td>\n",
       "      <td>44.30</td>\n",
       "    </tr>\n",
       "  </tbody>\n",
       "</table>\n",
       "</div>"
      ],
      "text/plain": [
       "   Cement  Blast Furnace Slag  Fly Ash  Water  Superplasticizer  \\\n",
       "0   540.0                 0.0      0.0  162.0               2.5   \n",
       "1   540.0                 0.0      0.0  162.0               2.5   \n",
       "2   332.5               142.5      0.0  228.0               0.0   \n",
       "3   332.5               142.5      0.0  228.0               0.0   \n",
       "4   198.6               132.4      0.0  192.0               0.0   \n",
       "\n",
       "   Coarse Aggregate  Fine Aggregate  Age  Strength  \n",
       "0            1040.0           676.0   28     79.99  \n",
       "1            1055.0           676.0   28     61.89  \n",
       "2             932.0           594.0  270     40.27  \n",
       "3             932.0           594.0  365     41.05  \n",
       "4             978.4           825.5  360     44.30  "
      ]
     },
     "execution_count": 2,
     "metadata": {},
     "output_type": "execute_result"
    }
   ],
   "source": [
    "concrete_data = pd.read_csv('https://s3-api.us-geo.objectstorage.softlayer.net/cf-courses-data/CognitiveClass/DL0101EN/labs/data/concrete_data.csv')\n",
    "concrete_data.head()"
   ]
  },
  {
   "cell_type": "code",
   "execution_count": 15,
   "metadata": {},
   "outputs": [],
   "source": [
    "concrete_data_columns = concrete_data.columns\n",
    "\n",
    "predictors = concrete_data[concrete_data_columns[concrete_data_columns != 'Strength']] # all columns except Strength\n",
    "target = concrete_data['Strength'] # Strength column"
   ]
  },
  {
   "cell_type": "code",
   "execution_count": 16,
   "metadata": {},
   "outputs": [],
   "source": [
    "n_cols = predictors.shape[1]"
   ]
  },
  {
   "cell_type": "markdown",
   "metadata": {},
   "source": [
    "### import keras libraries"
   ]
  },
  {
   "cell_type": "code",
   "execution_count": 17,
   "metadata": {},
   "outputs": [],
   "source": [
    "import keras\n",
    "\n",
    "from keras.models import Sequential\n",
    "from keras.layers import Dense"
   ]
  },
  {
   "cell_type": "markdown",
   "metadata": {},
   "source": [
    "### define regresion model"
   ]
  },
  {
   "cell_type": "code",
   "execution_count": 18,
   "metadata": {},
   "outputs": [],
   "source": [
    "def regression_model():\n",
    "    # create model\n",
    "    model = Sequential()\n",
    "    model.add(Dense(10, activation='relu', input_shape=(n_cols,)))\n",
    "    model.add(Dense(1))\n",
    "    \n",
    "    # compile model\n",
    "    model.compile(optimizer='adam', loss='mean_squared_error')\n",
    "    return model"
   ]
  },
  {
   "cell_type": "code",
   "execution_count": 20,
   "metadata": {},
   "outputs": [],
   "source": [
    "from sklearn.model_selection import train_test_split"
   ]
  },
  {
   "cell_type": "markdown",
   "metadata": {},
   "source": [
    "### Split the data in to training and testing data"
   ]
  },
  {
   "cell_type": "code",
   "execution_count": 21,
   "metadata": {},
   "outputs": [],
   "source": [
    "X_train, X_test, y_train, y_test = train_test_split(predictors, target, test_size=0.3, random_state=42)"
   ]
  },
  {
   "cell_type": "markdown",
   "metadata": {},
   "source": [
    "### build the model"
   ]
  },
  {
   "cell_type": "code",
   "execution_count": 12,
   "metadata": {},
   "outputs": [],
   "source": [
    "model = regression_model()"
   ]
  },
  {
   "cell_type": "markdown",
   "metadata": {},
   "source": [
    "### fit the model"
   ]
  },
  {
   "cell_type": "code",
   "execution_count": 22,
   "metadata": {},
   "outputs": [
    {
     "name": "stdout",
     "output_type": "stream",
     "text": [
      "Epoch 1/50\n",
      " - 0s - loss: 3862.5946\n",
      "Epoch 2/50\n",
      " - 0s - loss: 948.4692\n",
      "Epoch 3/50\n",
      " - 0s - loss: 700.6578\n",
      "Epoch 4/50\n",
      " - 0s - loss: 520.2177\n",
      "Epoch 5/50\n",
      " - 0s - loss: 392.1064\n",
      "Epoch 6/50\n",
      " - 0s - loss: 310.1315\n",
      "Epoch 7/50\n",
      " - 0s - loss: 257.0163\n",
      "Epoch 8/50\n",
      " - 0s - loss: 218.8552\n",
      "Epoch 9/50\n",
      " - 0s - loss: 192.5247\n",
      "Epoch 10/50\n",
      " - 0s - loss: 171.4992\n",
      "Epoch 11/50\n",
      " - 0s - loss: 163.5433\n",
      "Epoch 12/50\n",
      " - 0s - loss: 147.8291\n",
      "Epoch 13/50\n",
      " - 0s - loss: 142.0418\n",
      "Epoch 14/50\n",
      " - 0s - loss: 140.9384\n",
      "Epoch 15/50\n",
      " - 0s - loss: 130.8705\n",
      "Epoch 16/50\n",
      " - 0s - loss: 126.9365\n",
      "Epoch 17/50\n",
      " - 0s - loss: 122.8934\n",
      "Epoch 18/50\n",
      " - 0s - loss: 119.8406\n",
      "Epoch 19/50\n",
      " - 0s - loss: 118.6486\n",
      "Epoch 20/50\n",
      " - 0s - loss: 114.2441\n",
      "Epoch 21/50\n",
      " - 0s - loss: 113.0732\n",
      "Epoch 22/50\n",
      " - 0s - loss: 110.4139\n",
      "Epoch 23/50\n",
      " - 0s - loss: 110.9018\n",
      "Epoch 24/50\n",
      " - 0s - loss: 109.7224\n",
      "Epoch 25/50\n",
      " - 0s - loss: 107.3401\n",
      "Epoch 26/50\n",
      " - 0s - loss: 107.1404\n",
      "Epoch 27/50\n",
      " - 0s - loss: 103.9607\n",
      "Epoch 28/50\n",
      " - 0s - loss: 102.4042\n",
      "Epoch 29/50\n",
      " - 0s - loss: 101.0817\n",
      "Epoch 30/50\n",
      " - 0s - loss: 99.0770\n",
      "Epoch 31/50\n",
      " - 0s - loss: 98.2735\n",
      "Epoch 32/50\n",
      " - 0s - loss: 97.2050\n",
      "Epoch 33/50\n",
      " - 0s - loss: 96.7678\n",
      "Epoch 34/50\n",
      " - 0s - loss: 94.5645\n",
      "Epoch 35/50\n",
      " - 0s - loss: 93.5384\n",
      "Epoch 36/50\n",
      " - 0s - loss: 92.0338\n",
      "Epoch 37/50\n",
      " - 0s - loss: 93.5784\n",
      "Epoch 38/50\n",
      " - 0s - loss: 90.5944\n",
      "Epoch 39/50\n",
      " - 0s - loss: 90.0161\n",
      "Epoch 40/50\n",
      " - 0s - loss: 91.0226\n",
      "Epoch 41/50\n",
      " - 0s - loss: 89.2796\n",
      "Epoch 42/50\n",
      " - 0s - loss: 87.4777\n",
      "Epoch 43/50\n",
      " - 0s - loss: 88.6013\n",
      "Epoch 44/50\n",
      " - 0s - loss: 84.1399\n",
      "Epoch 45/50\n",
      " - 0s - loss: 83.8146\n",
      "Epoch 46/50\n",
      " - 0s - loss: 83.1414\n",
      "Epoch 47/50\n",
      " - 0s - loss: 84.2714\n",
      "Epoch 48/50\n",
      " - 0s - loss: 81.3804\n",
      "Epoch 49/50\n",
      " - 0s - loss: 80.3829\n",
      "Epoch 50/50\n",
      " - 0s - loss: 79.8246\n"
     ]
    },
    {
     "data": {
      "text/plain": [
       "<keras.callbacks.History at 0x7fdaac8bcda0>"
      ]
     },
     "execution_count": 22,
     "metadata": {},
     "output_type": "execute_result"
    }
   ],
   "source": [
    "model.fit(X_train,y_train, epochs=50, verbose=2)\n"
   ]
  },
  {
   "cell_type": "markdown",
   "metadata": {},
   "source": [
    "### compute loss"
   ]
  },
  {
   "cell_type": "code",
   "execution_count": 23,
   "metadata": {},
   "outputs": [
    {
     "name": "stdout",
     "output_type": "stream",
     "text": [
      "309/309 [==============================] - 0s 135us/step\n"
     ]
    },
    {
     "data": {
      "text/plain": [
       "86.81716435009608"
      ]
     },
     "execution_count": 23,
     "metadata": {},
     "output_type": "execute_result"
    }
   ],
   "source": [
    "loss_val = model.evaluate(X_test, y_test)\n",
    "y_pred = model.predict(X_test)\n",
    "loss_val"
   ]
  },
  {
   "cell_type": "code",
   "execution_count": 24,
   "metadata": {},
   "outputs": [],
   "source": [
    "from sklearn.metrics import mean_squared_error"
   ]
  },
  {
   "cell_type": "code",
   "execution_count": 25,
   "metadata": {},
   "outputs": [
    {
     "name": "stdout",
     "output_type": "stream",
     "text": [
      "86.81716457373844 0.0\n"
     ]
    }
   ],
   "source": [
    "mean_square_error = mean_squared_error(y_test, y_pred)\n",
    "mean = np.mean(mean_square_error)\n",
    "standard_deviation = np.std(mean_square_error)\n",
    "print(mean, standard_deviation)"
   ]
  },
  {
   "cell_type": "code",
   "execution_count": 27,
   "metadata": {},
   "outputs": [
    {
     "name": "stdout",
     "output_type": "stream",
     "text": [
      "MSE 1: 33.59426168793613\n",
      "MSE 2: 36.3891781495227\n",
      "MSE 3: 33.757347514328444\n",
      "MSE 4: 37.04526009914559\n",
      "MSE 5: 37.88552510776952\n",
      "MSE 6: 36.046544429939544\n",
      "MSE 7: 40.17057217594875\n",
      "MSE 8: 31.987478515476855\n",
      "MSE 9: 33.87360145050345\n",
      "MSE 10: 33.774229055855265\n",
      "MSE 11: 32.89842511766551\n",
      "MSE 12: 33.191208965955816\n",
      "MSE 13: 40.48379417839174\n",
      "MSE 14: 39.32177059087167\n",
      "MSE 15: 35.11805477574419\n",
      "MSE 16: 34.20313175287833\n",
      "MSE 17: 36.01092248441332\n",
      "MSE 18: 36.433467454509056\n",
      "MSE 19: 36.0746535020353\n",
      "MSE 20: 36.657260697250614\n",
      "MSE 21: 32.945218552277694\n",
      "MSE 22: 33.679698765084964\n",
      "MSE 23: 31.59441332523877\n",
      "MSE 24: 36.051909264623156\n",
      "MSE 25: 34.85920070907444\n",
      "MSE 26: 41.723057101845356\n",
      "MSE 27: 34.958044613835106\n",
      "MSE 28: 32.03752302892\n",
      "MSE 29: 40.96970432861723\n",
      "MSE 30: 35.60916915449124\n",
      "MSE 31: 33.676353936056486\n",
      "MSE 32: 31.623403681906296\n",
      "MSE 33: 30.65672934325382\n",
      "MSE 34: 34.835704025712985\n",
      "MSE 35: 36.707969369240175\n",
      "MSE 36: 39.10426519449475\n",
      "MSE 37: 35.423978503082175\n",
      "MSE 38: 32.77761805018947\n",
      "MSE 39: 31.487450534857594\n",
      "MSE 40: 29.987448528746572\n",
      "MSE 41: 36.133433925295336\n",
      "MSE 42: 31.806318110246874\n",
      "MSE 43: 36.320935993132856\n",
      "MSE 44: 41.437326857187216\n",
      "MSE 45: 40.12568821336073\n",
      "MSE 46: 38.672906597841134\n",
      "MSE 47: 37.332431324091544\n",
      "MSE 48: 36.699282365323654\n",
      "MSE 49: 36.21889836579851\n",
      "MSE 50: 36.20353291335615\n",
      "\n",
      "\n",
      "Below is the mean and standard deviation of 50 mean squared errors without normalized data. Total number of epochs for each training is: 50\n",
      "\n",
      "Mean: 35.53152565472429\n",
      "Standard Deviation: 2.8855958847509657\n"
     ]
    }
   ],
   "source": [
    "total_mean_squared_errors = 50\n",
    "epochs = 50\n",
    "mean_squared_errors = []\n",
    "for i in range(0, total_mean_squared_errors):\n",
    "    X_train, X_test, y_train, y_test = train_test_split(predictors, target, test_size=0.3, random_state=i)\n",
    "    model.fit(X_train, y_train, epochs=epochs, verbose=0)\n",
    "    MSE = model.evaluate(X_test, y_test, verbose=0)\n",
    "    print(\"MSE \"+str(i+1)+\": \"+str(MSE))\n",
    "    y_pred = model.predict(X_test)\n",
    "    mean_square_error = mean_squared_error(y_test, y_pred)\n",
    "    mean_squared_errors.append(mean_square_error)\n",
    "\n",
    "mean_squared_errors = np.array(mean_squared_errors)\n",
    "mean = np.mean(mean_squared_errors)\n",
    "standard_deviation = np.std(mean_squared_errors)\n",
    "\n",
    "print('\\n')\n",
    "print(\"Below is the mean and standard deviation of \" +str(total_mean_squared_errors) + \" mean squared errors without normalized data. Total number of epochs for each training is: \" +str(epochs) + \"\\n\")\n",
    "print(\"Mean: \"+str(mean))\n",
    "print(\"Standard Deviation: \"+str(standard_deviation))"
   ]
  },
  {
   "cell_type": "code",
   "execution_count": null,
   "metadata": {},
   "outputs": [],
   "source": []
  }
 ],
 "metadata": {
  "kernelspec": {
   "display_name": "Python",
   "language": "python",
   "name": "conda-env-python-py"
  },
  "language_info": {
   "codemirror_mode": {
    "name": "ipython",
    "version": 3
   },
   "file_extension": ".py",
   "mimetype": "text/x-python",
   "name": "python",
   "nbconvert_exporter": "python",
   "pygments_lexer": "ipython3",
   "version": "3.6.7"
  }
 },
 "nbformat": 4,
 "nbformat_minor": 4
}
